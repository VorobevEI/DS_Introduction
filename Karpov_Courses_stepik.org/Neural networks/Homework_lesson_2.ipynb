{
 "cells": [
  {
   "cell_type": "code",
   "execution_count": 1,
   "metadata": {},
   "outputs": [],
   "source": [
    "import matplotlib.pyplot as plt\n",
    "import mpl_toolkits.mplot3d as p3\n",
    "import numpy as np\n",
    "import random\n",
    "import time\n",
    "import pandas as pd\n",
    "import math as m\n",
    "\n",
    "from functools import partial\n",
    "from ipywidgets import interact, RadioButtons, IntSlider, FloatSlider, Dropdown, BoundedFloatText\n",
    "from numpy.linalg import norm\n",
    "\n",
    "random.seed(42) # начальное состояние генератора случайных чисел, чтобы можно было воспроизводить результаты."
   ]
  },
  {
   "cell_type": "code",
   "execution_count": 2,
   "metadata": {},
   "outputs": [
    {
     "data": {
      "image/png": "[encoded data removed]",
      "text/plain": [
       "<Figure size 432x288 with 1 Axes>"
      ]
     },
     "metadata": {
      "needs_background": "light"
     },
     "output_type": "display_data"
    }
   ],
   "source": [
    "%matplotlib inline\n",
    "data = np.loadtxt('C:/Users/9/Downloads/data.csv', delimiter=\",\")\n",
    "pears = data[:, 2] == 1\n",
    "apples = np.logical_not(pears)\n",
    "plt.scatter(data[apples][:, 0], data[apples][:, 1], color = \"red\")\n",
    "plt.scatter(data[pears][:, 0], data[pears][:, 1], color = \"green\")\n",
    "plt.xlabel(\"yellowness\")\n",
    "plt.ylabel(\"symmetry\")\n",
    "plt.show()"
   ]
  },
  {
   "cell_type": "code",
   "execution_count": 3,
   "metadata": {},
   "outputs": [],
   "source": [
    "df=pd.DataFrame(data, columns = ['yellowness', 'symmetry', 'pear/apple'])"
   ]
  },
  {
   "cell_type": "code",
   "execution_count": 4,
   "metadata": {},
   "outputs": [
    {
     "data": {
      "text/html": [
       "<div>\n",
       "<style scoped>\n",
       "    .dataframe tbody tr th:only-of-type {\n",
       "        vertical-align: middle;\n",
       "    }\n",
       "\n",
       "    .dataframe tbody tr th {\n",
       "        vertical-align: top;\n",
       "    }\n",
       "\n",
       "    .dataframe thead th {\n",
       "        text-align: right;\n",
       "    }\n",
       "</style>\n",
       "<table border=\"1\" class=\"dataframe\">\n",
       "  <thead>\n",
       "    <tr style=\"text-align: right;\">\n",
       "      <th></th>\n",
       "      <th>yellowness</th>\n",
       "      <th>symmetry</th>\n",
       "      <th>pear/apple</th>\n",
       "    </tr>\n",
       "  </thead>\n",
       "  <tbody>\n",
       "    <tr>\n",
       "      <th>0</th>\n",
       "      <td>0.779427</td>\n",
       "      <td>0.257305</td>\n",
       "      <td>1.0</td>\n",
       "    </tr>\n",
       "    <tr>\n",
       "      <th>1</th>\n",
       "      <td>0.777005</td>\n",
       "      <td>0.015915</td>\n",
       "      <td>1.0</td>\n",
       "    </tr>\n",
       "    <tr>\n",
       "      <th>2</th>\n",
       "      <td>0.977092</td>\n",
       "      <td>0.304210</td>\n",
       "      <td>1.0</td>\n",
       "    </tr>\n",
       "    <tr>\n",
       "      <th>3</th>\n",
       "      <td>0.043032</td>\n",
       "      <td>0.140899</td>\n",
       "      <td>0.0</td>\n",
       "    </tr>\n",
       "    <tr>\n",
       "      <th>4</th>\n",
       "      <td>0.760433</td>\n",
       "      <td>0.193123</td>\n",
       "      <td>1.0</td>\n",
       "    </tr>\n",
       "    <tr>\n",
       "      <th>5</th>\n",
       "      <td>0.796064</td>\n",
       "      <td>0.040560</td>\n",
       "      <td>1.0</td>\n",
       "    </tr>\n",
       "    <tr>\n",
       "      <th>6</th>\n",
       "      <td>0.903320</td>\n",
       "      <td>0.170235</td>\n",
       "      <td>1.0</td>\n",
       "    </tr>\n",
       "    <tr>\n",
       "      <th>7</th>\n",
       "      <td>0.981188</td>\n",
       "      <td>0.091016</td>\n",
       "      <td>1.0</td>\n",
       "    </tr>\n",
       "    <tr>\n",
       "      <th>8</th>\n",
       "      <td>0.407194</td>\n",
       "      <td>0.465379</td>\n",
       "      <td>0.0</td>\n",
       "    </tr>\n",
       "    <tr>\n",
       "      <th>9</th>\n",
       "      <td>0.790900</td>\n",
       "      <td>0.291975</td>\n",
       "      <td>0.0</td>\n",
       "    </tr>\n",
       "  </tbody>\n",
       "</table>\n",
       "</div>"
      ],
      "text/plain": [
       "   yellowness  symmetry  pear/apple\n",
       "0    0.779427  0.257305         1.0\n",
       "1    0.777005  0.015915         1.0\n",
       "2    0.977092  0.304210         1.0\n",
       "3    0.043032  0.140899         0.0\n",
       "4    0.760433  0.193123         1.0\n",
       "5    0.796064  0.040560         1.0\n",
       "6    0.903320  0.170235         1.0\n",
       "7    0.981188  0.091016         1.0\n",
       "8    0.407194  0.465379         0.0\n",
       "9    0.790900  0.291975         0.0"
      ]
     },
     "execution_count": 4,
     "metadata": {},
     "output_type": "execute_result"
    }
   ],
   "source": [
    "df.head(10)"
   ]
  },
  {
   "cell_type": "code",
   "execution_count": 5,
   "metadata": {},
   "outputs": [
    {
     "data": {
      "text/plain": [
       "(1000, 3)"
      ]
     },
     "execution_count": 5,
     "metadata": {},
     "output_type": "execute_result"
    }
   ],
   "source": [
    "df.shape"
   ]
  },
  {
   "cell_type": "code",
   "execution_count": 6,
   "metadata": {},
   "outputs": [],
   "source": [
    "class Perceptron:\n",
    "\n",
    "    def __init__(self, w, b):\n",
    "        \"\"\"\n",
    "        Инициализируем наш объект - перцептрон.\n",
    "        w - вектор весов размера (m, 1), где m - количество переменных\n",
    "        b - число\n",
    "        \"\"\"\n",
    "        \n",
    "        self.w = w\n",
    "        self.b = b\n",
    "\n",
    "    def forward_pass(self, single_input):\n",
    "        \"\"\"\n",
    "        Метод рассчитывает ответ перцептрона при предъявлении одного примера\n",
    "        single_input - вектор примера размера (m, 1).\n",
    "        Метод возвращает число (0 или 1) или boolean (True/False)\n",
    "        \"\"\"\n",
    "        \n",
    "        result = 0\n",
    "        for i in range(0, len(self.w)):\n",
    "            result += self.w[i] * single_input[i]\n",
    "        result += self.b\n",
    "        \n",
    "        if result > 0:\n",
    "            return 1\n",
    "        else:\n",
    "            return 0\n",
    "\n",
    "    def vectorized_forward_pass(self, input_matrix):\n",
    "        \"\"\"\n",
    "        Метод рассчитывает ответ перцептрона при предъявлении набора примеров\n",
    "        input_matrix - матрица примеров размера (n, m), каждая строка - отдельный пример,\n",
    "        n - количество примеров, m - количество переменных\n",
    "        Возвращает вертикальный вектор размера (n, 1) с ответами перцептрона\n",
    "        (элементы вектора - boolean или целые числа (0 или 1))\n",
    "        \"\"\"\n",
    "        res = input_matrix.dot(self.w)\n",
    "        res += self.b\n",
    "        \n",
    "        return res > 0\n",
    "      \n",
    "    \n",
    "    def train_on_single_example(self, example, y):\n",
    "        \"\"\"\n",
    "        принимает вектор активации входов example формы (m, 1) \n",
    "        и правильный ответ для него (число 0 или 1 или boolean),\n",
    "        обновляет значения весов перцептрона в соответствии с этим примером\n",
    "        и возвращает размер ошибки, которая случилась на этом примере до изменения весов (0 или 1)\n",
    "        (на её основании мы потом построим интересный график)\n",
    "        \"\"\"\n",
    "        predict = int(np.dot(self.w.T, example)+self.b)>0\n",
    "        error = y-predict\n",
    "        self.w = self.w + error*example\n",
    "        self.b = self.b + error\n",
    "        return error\n",
    "    \n",
    "    def train_until_convergence(self, input_matrix, y, max_steps=1e8):\n",
    "        \"\"\"\n",
    "        input_matrix - матрица входов размера (n, m),\n",
    "        y - вектор правильных ответов размера (n, 1) (y[i] - правильный ответ на пример input_matrix[i]),\n",
    "        max_steps - максимальное количество шагов.\n",
    "        Применяем train_on_single_example, пока не перестанем ошибаться или до умопомрачения.\n",
    "        Константа max_steps - наше понимание того, что считать умопомрачением.\n",
    "        \"\"\"\n",
    "        i = 0\n",
    "        errors = 1\n",
    "        while errors and i < max_steps:\n",
    "            i += 1\n",
    "            errors = 0\n",
    "            for example, answer in zip(input_matrix, y):\n",
    "                example = example.reshape((example.size, 1))\n",
    "                error = self.train_on_single_example(example, answer)\n",
    "                errors += int(error)  # int(True) = 1, int(False) = 0, так что можно не делать if"
   ]
  }
 ],
 "metadata": {
  "kernelspec": {
   "display_name": "Python 3",
   "language": "python",
   "name": "python3"
  },
  "language_info": {
   "codemirror_mode": {
    "name": "ipython",
    "version": 3
   },
   "file_extension": ".py",
   "mimetype": "text/x-python",
   "name": "python",
   "nbconvert_exporter": "python",
   "pygments_lexer": "ipython3",
   "version": "3.8.3"
  }
 },
 "nbformat": 4,
 "nbformat_minor": 4
}
