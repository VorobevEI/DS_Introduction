{
 "cells": [
  {
   "cell_type": "code",
   "execution_count": 1,
   "metadata": {},
   "outputs": [],
   "source": [
    "#Importing libraries for workflow\n",
    "#Importer des bibliotheques pour le flux de travail\n",
    "#Импорт библиотек для работы\n",
    "\n",
    "import pandas as pd"
   ]
  },
  {
   "cell_type": "code",
   "execution_count": 2,
   "metadata": {},
   "outputs": [],
   "source": [
    "#Loading data frame into sp\n",
    "#Chargement de la dataframe dans sp\n",
    "#Загрузка данных в переменную sp\n",
    "\n",
    "sp=pd.read_csv('C:/Users/9/Downloads/StudentsPerformance.csv')"
   ]
  },
  {
   "cell_type": "code",
   "execution_count": 3,
   "metadata": {},
   "outputs": [
    {
     "data": {
      "text/html": [
       "<div>\n",
       "<style scoped>\n",
       "    .dataframe tbody tr th:only-of-type {\n",
       "        vertical-align: middle;\n",
       "    }\n",
       "\n",
       "    .dataframe tbody tr th {\n",
       "        vertical-align: top;\n",
       "    }\n",
       "\n",
       "    .dataframe thead th {\n",
       "        text-align: right;\n",
       "    }\n",
       "</style>\n",
       "<table border=\"1\" class=\"dataframe\">\n",
       "  <thead>\n",
       "    <tr style=\"text-align: right;\">\n",
       "      <th></th>\n",
       "      <th>math score</th>\n",
       "      <th>reading score</th>\n",
       "      <th>writing score</th>\n",
       "    </tr>\n",
       "  </thead>\n",
       "  <tbody>\n",
       "    <tr>\n",
       "      <th>count</th>\n",
       "      <td>1000.00000</td>\n",
       "      <td>1000.000000</td>\n",
       "      <td>1000.000000</td>\n",
       "    </tr>\n",
       "    <tr>\n",
       "      <th>mean</th>\n",
       "      <td>66.08900</td>\n",
       "      <td>69.169000</td>\n",
       "      <td>68.054000</td>\n",
       "    </tr>\n",
       "    <tr>\n",
       "      <th>std</th>\n",
       "      <td>15.16308</td>\n",
       "      <td>14.600192</td>\n",
       "      <td>15.195657</td>\n",
       "    </tr>\n",
       "    <tr>\n",
       "      <th>min</th>\n",
       "      <td>0.00000</td>\n",
       "      <td>17.000000</td>\n",
       "      <td>10.000000</td>\n",
       "    </tr>\n",
       "    <tr>\n",
       "      <th>25%</th>\n",
       "      <td>57.00000</td>\n",
       "      <td>59.000000</td>\n",
       "      <td>57.750000</td>\n",
       "    </tr>\n",
       "    <tr>\n",
       "      <th>50%</th>\n",
       "      <td>66.00000</td>\n",
       "      <td>70.000000</td>\n",
       "      <td>69.000000</td>\n",
       "    </tr>\n",
       "    <tr>\n",
       "      <th>75%</th>\n",
       "      <td>77.00000</td>\n",
       "      <td>79.000000</td>\n",
       "      <td>79.000000</td>\n",
       "    </tr>\n",
       "    <tr>\n",
       "      <th>max</th>\n",
       "      <td>100.00000</td>\n",
       "      <td>100.000000</td>\n",
       "      <td>100.000000</td>\n",
       "    </tr>\n",
       "  </tbody>\n",
       "</table>\n",
       "</div>"
      ],
      "text/plain": [
       "       math score  reading score  writing score\n",
       "count  1000.00000    1000.000000    1000.000000\n",
       "mean     66.08900      69.169000      68.054000\n",
       "std      15.16308      14.600192      15.195657\n",
       "min       0.00000      17.000000      10.000000\n",
       "25%      57.00000      59.000000      57.750000\n",
       "50%      66.00000      70.000000      69.000000\n",
       "75%      77.00000      79.000000      79.000000\n",
       "max     100.00000     100.000000     100.000000"
      ]
     },
     "execution_count": 3,
     "metadata": {},
     "output_type": "execute_result"
    }
   ],
   "source": [
    "#Descripting numeric data\n",
    "#Description des donnees numeriques\n",
    "#Описание числовых данных\n",
    "\n",
    "sp.describe()"
   ]
  },
  {
   "cell_type": "code",
   "execution_count": 4,
   "metadata": {},
   "outputs": [
    {
     "data": {
      "text/html": [
       "<div>\n",
       "<style scoped>\n",
       "    .dataframe tbody tr th:only-of-type {\n",
       "        vertical-align: middle;\n",
       "    }\n",
       "\n",
       "    .dataframe tbody tr th {\n",
       "        vertical-align: top;\n",
       "    }\n",
       "\n",
       "    .dataframe thead th {\n",
       "        text-align: right;\n",
       "    }\n",
       "</style>\n",
       "<table border=\"1\" class=\"dataframe\">\n",
       "  <thead>\n",
       "    <tr style=\"text-align: right;\">\n",
       "      <th></th>\n",
       "      <th>gender</th>\n",
       "      <th>race/ethnicity</th>\n",
       "      <th>parental level of education</th>\n",
       "      <th>lunch</th>\n",
       "      <th>test preparation course</th>\n",
       "      <th>math score</th>\n",
       "      <th>reading score</th>\n",
       "      <th>writing score</th>\n",
       "    </tr>\n",
       "  </thead>\n",
       "  <tbody>\n",
       "    <tr>\n",
       "      <th>0</th>\n",
       "      <td>female</td>\n",
       "      <td>group B</td>\n",
       "      <td>bachelor's degree</td>\n",
       "      <td>standard</td>\n",
       "      <td>none</td>\n",
       "      <td>72</td>\n",
       "      <td>72</td>\n",
       "      <td>74</td>\n",
       "    </tr>\n",
       "    <tr>\n",
       "      <th>1</th>\n",
       "      <td>female</td>\n",
       "      <td>group C</td>\n",
       "      <td>some college</td>\n",
       "      <td>standard</td>\n",
       "      <td>completed</td>\n",
       "      <td>69</td>\n",
       "      <td>90</td>\n",
       "      <td>88</td>\n",
       "    </tr>\n",
       "    <tr>\n",
       "      <th>2</th>\n",
       "      <td>female</td>\n",
       "      <td>group B</td>\n",
       "      <td>master's degree</td>\n",
       "      <td>standard</td>\n",
       "      <td>none</td>\n",
       "      <td>90</td>\n",
       "      <td>95</td>\n",
       "      <td>93</td>\n",
       "    </tr>\n",
       "    <tr>\n",
       "      <th>3</th>\n",
       "      <td>male</td>\n",
       "      <td>group A</td>\n",
       "      <td>associate's degree</td>\n",
       "      <td>free/reduced</td>\n",
       "      <td>none</td>\n",
       "      <td>47</td>\n",
       "      <td>57</td>\n",
       "      <td>44</td>\n",
       "    </tr>\n",
       "    <tr>\n",
       "      <th>4</th>\n",
       "      <td>male</td>\n",
       "      <td>group C</td>\n",
       "      <td>some college</td>\n",
       "      <td>standard</td>\n",
       "      <td>none</td>\n",
       "      <td>76</td>\n",
       "      <td>78</td>\n",
       "      <td>75</td>\n",
       "    </tr>\n",
       "    <tr>\n",
       "      <th>5</th>\n",
       "      <td>female</td>\n",
       "      <td>group B</td>\n",
       "      <td>associate's degree</td>\n",
       "      <td>standard</td>\n",
       "      <td>none</td>\n",
       "      <td>71</td>\n",
       "      <td>83</td>\n",
       "      <td>78</td>\n",
       "    </tr>\n",
       "    <tr>\n",
       "      <th>6</th>\n",
       "      <td>female</td>\n",
       "      <td>group B</td>\n",
       "      <td>some college</td>\n",
       "      <td>standard</td>\n",
       "      <td>completed</td>\n",
       "      <td>88</td>\n",
       "      <td>95</td>\n",
       "      <td>92</td>\n",
       "    </tr>\n",
       "    <tr>\n",
       "      <th>7</th>\n",
       "      <td>male</td>\n",
       "      <td>group B</td>\n",
       "      <td>some college</td>\n",
       "      <td>free/reduced</td>\n",
       "      <td>none</td>\n",
       "      <td>40</td>\n",
       "      <td>43</td>\n",
       "      <td>39</td>\n",
       "    </tr>\n",
       "    <tr>\n",
       "      <th>8</th>\n",
       "      <td>male</td>\n",
       "      <td>group D</td>\n",
       "      <td>high school</td>\n",
       "      <td>free/reduced</td>\n",
       "      <td>completed</td>\n",
       "      <td>64</td>\n",
       "      <td>64</td>\n",
       "      <td>67</td>\n",
       "    </tr>\n",
       "    <tr>\n",
       "      <th>9</th>\n",
       "      <td>female</td>\n",
       "      <td>group B</td>\n",
       "      <td>high school</td>\n",
       "      <td>free/reduced</td>\n",
       "      <td>none</td>\n",
       "      <td>38</td>\n",
       "      <td>60</td>\n",
       "      <td>50</td>\n",
       "    </tr>\n",
       "  </tbody>\n",
       "</table>\n",
       "</div>"
      ],
      "text/plain": [
       "   gender race/ethnicity parental level of education         lunch  \\\n",
       "0  female        group B           bachelor's degree      standard   \n",
       "1  female        group C                some college      standard   \n",
       "2  female        group B             master's degree      standard   \n",
       "3    male        group A          associate's degree  free/reduced   \n",
       "4    male        group C                some college      standard   \n",
       "5  female        group B          associate's degree      standard   \n",
       "6  female        group B                some college      standard   \n",
       "7    male        group B                some college  free/reduced   \n",
       "8    male        group D                 high school  free/reduced   \n",
       "9  female        group B                 high school  free/reduced   \n",
       "\n",
       "  test preparation course  math score  reading score  writing score  \n",
       "0                    none          72             72             74  \n",
       "1               completed          69             90             88  \n",
       "2                    none          90             95             93  \n",
       "3                    none          47             57             44  \n",
       "4                    none          76             78             75  \n",
       "5                    none          71             83             78  \n",
       "6               completed          88             95             92  \n",
       "7                    none          40             43             39  \n",
       "8               completed          64             64             67  \n",
       "9                    none          38             60             50  "
      ]
     },
     "execution_count": 4,
     "metadata": {},
     "output_type": "execute_result"
    }
   ],
   "source": [
    "#Show the first 10 lines\n",
    "#Afficher les 10 premieres lignes\n",
    "#Показать 10 первых строк\n",
    "\n",
    "sp.head(10)"
   ]
  },
  {
   "cell_type": "code",
   "execution_count": 5,
   "metadata": {},
   "outputs": [
    {
     "data": {
      "text/plain": [
       "0      False\n",
       "1      False\n",
       "2      False\n",
       "3       True\n",
       "4      False\n",
       "       ...  \n",
       "995    False\n",
       "996     True\n",
       "997     True\n",
       "998    False\n",
       "999     True\n",
       "Name: lunch, Length: 1000, dtype: bool"
      ]
     },
     "execution_count": 5,
     "metadata": {},
     "output_type": "execute_result"
    }
   ],
   "source": [
    "#View of a series where the lunch is free/reduced\n",
    "#Vue d'une serie ou le dejeuner est gratuit/reduit\n",
    "#Представление серии в которой обед - бесплатный/льготный\n",
    "\n",
    "sp.lunch =='free/reduced'"
   ]
  },
  {
   "cell_type": "code",
   "execution_count": 6,
   "metadata": {},
   "outputs": [
    {
     "data": {
      "text/html": [
       "<div>\n",
       "<style scoped>\n",
       "    .dataframe tbody tr th:only-of-type {\n",
       "        vertical-align: middle;\n",
       "    }\n",
       "\n",
       "    .dataframe tbody tr th {\n",
       "        vertical-align: top;\n",
       "    }\n",
       "\n",
       "    .dataframe thead th {\n",
       "        text-align: right;\n",
       "    }\n",
       "</style>\n",
       "<table border=\"1\" class=\"dataframe\">\n",
       "  <thead>\n",
       "    <tr style=\"text-align: right;\">\n",
       "      <th></th>\n",
       "      <th>gender</th>\n",
       "      <th>race/ethnicity</th>\n",
       "      <th>parental level of education</th>\n",
       "      <th>lunch</th>\n",
       "      <th>test preparation course</th>\n",
       "      <th>math score</th>\n",
       "      <th>reading score</th>\n",
       "      <th>writing score</th>\n",
       "    </tr>\n",
       "  </thead>\n",
       "  <tbody>\n",
       "    <tr>\n",
       "      <th>3</th>\n",
       "      <td>male</td>\n",
       "      <td>group A</td>\n",
       "      <td>associate's degree</td>\n",
       "      <td>free/reduced</td>\n",
       "      <td>none</td>\n",
       "      <td>47</td>\n",
       "      <td>57</td>\n",
       "      <td>44</td>\n",
       "    </tr>\n",
       "    <tr>\n",
       "      <th>7</th>\n",
       "      <td>male</td>\n",
       "      <td>group B</td>\n",
       "      <td>some college</td>\n",
       "      <td>free/reduced</td>\n",
       "      <td>none</td>\n",
       "      <td>40</td>\n",
       "      <td>43</td>\n",
       "      <td>39</td>\n",
       "    </tr>\n",
       "    <tr>\n",
       "      <th>8</th>\n",
       "      <td>male</td>\n",
       "      <td>group D</td>\n",
       "      <td>high school</td>\n",
       "      <td>free/reduced</td>\n",
       "      <td>completed</td>\n",
       "      <td>64</td>\n",
       "      <td>64</td>\n",
       "      <td>67</td>\n",
       "    </tr>\n",
       "    <tr>\n",
       "      <th>9</th>\n",
       "      <td>female</td>\n",
       "      <td>group B</td>\n",
       "      <td>high school</td>\n",
       "      <td>free/reduced</td>\n",
       "      <td>none</td>\n",
       "      <td>38</td>\n",
       "      <td>60</td>\n",
       "      <td>50</td>\n",
       "    </tr>\n",
       "    <tr>\n",
       "      <th>17</th>\n",
       "      <td>female</td>\n",
       "      <td>group B</td>\n",
       "      <td>some high school</td>\n",
       "      <td>free/reduced</td>\n",
       "      <td>none</td>\n",
       "      <td>18</td>\n",
       "      <td>32</td>\n",
       "      <td>28</td>\n",
       "    </tr>\n",
       "    <tr>\n",
       "      <th>...</th>\n",
       "      <td>...</td>\n",
       "      <td>...</td>\n",
       "      <td>...</td>\n",
       "      <td>...</td>\n",
       "      <td>...</td>\n",
       "      <td>...</td>\n",
       "      <td>...</td>\n",
       "      <td>...</td>\n",
       "    </tr>\n",
       "    <tr>\n",
       "      <th>992</th>\n",
       "      <td>female</td>\n",
       "      <td>group D</td>\n",
       "      <td>associate's degree</td>\n",
       "      <td>free/reduced</td>\n",
       "      <td>none</td>\n",
       "      <td>55</td>\n",
       "      <td>76</td>\n",
       "      <td>76</td>\n",
       "    </tr>\n",
       "    <tr>\n",
       "      <th>993</th>\n",
       "      <td>female</td>\n",
       "      <td>group D</td>\n",
       "      <td>bachelor's degree</td>\n",
       "      <td>free/reduced</td>\n",
       "      <td>none</td>\n",
       "      <td>62</td>\n",
       "      <td>72</td>\n",
       "      <td>74</td>\n",
       "    </tr>\n",
       "    <tr>\n",
       "      <th>996</th>\n",
       "      <td>male</td>\n",
       "      <td>group C</td>\n",
       "      <td>high school</td>\n",
       "      <td>free/reduced</td>\n",
       "      <td>none</td>\n",
       "      <td>62</td>\n",
       "      <td>55</td>\n",
       "      <td>55</td>\n",
       "    </tr>\n",
       "    <tr>\n",
       "      <th>997</th>\n",
       "      <td>female</td>\n",
       "      <td>group C</td>\n",
       "      <td>high school</td>\n",
       "      <td>free/reduced</td>\n",
       "      <td>completed</td>\n",
       "      <td>59</td>\n",
       "      <td>71</td>\n",
       "      <td>65</td>\n",
       "    </tr>\n",
       "    <tr>\n",
       "      <th>999</th>\n",
       "      <td>female</td>\n",
       "      <td>group D</td>\n",
       "      <td>some college</td>\n",
       "      <td>free/reduced</td>\n",
       "      <td>none</td>\n",
       "      <td>77</td>\n",
       "      <td>86</td>\n",
       "      <td>86</td>\n",
       "    </tr>\n",
       "  </tbody>\n",
       "</table>\n",
       "<p>355 rows × 8 columns</p>\n",
       "</div>"
      ],
      "text/plain": [
       "     gender race/ethnicity parental level of education         lunch  \\\n",
       "3      male        group A          associate's degree  free/reduced   \n",
       "7      male        group B                some college  free/reduced   \n",
       "8      male        group D                 high school  free/reduced   \n",
       "9    female        group B                 high school  free/reduced   \n",
       "17   female        group B            some high school  free/reduced   \n",
       "..      ...            ...                         ...           ...   \n",
       "992  female        group D          associate's degree  free/reduced   \n",
       "993  female        group D           bachelor's degree  free/reduced   \n",
       "996    male        group C                 high school  free/reduced   \n",
       "997  female        group C                 high school  free/reduced   \n",
       "999  female        group D                some college  free/reduced   \n",
       "\n",
       "    test preparation course  math score  reading score  writing score  \n",
       "3                      none          47             57             44  \n",
       "7                      none          40             43             39  \n",
       "8                 completed          64             64             67  \n",
       "9                      none          38             60             50  \n",
       "17                     none          18             32             28  \n",
       "..                      ...         ...            ...            ...  \n",
       "992                    none          55             76             76  \n",
       "993                    none          62             72             74  \n",
       "996                    none          62             55             55  \n",
       "997               completed          59             71             65  \n",
       "999                    none          77             86             86  \n",
       "\n",
       "[355 rows x 8 columns]"
      ]
     },
     "execution_count": 6,
     "metadata": {},
     "output_type": "execute_result"
    }
   ],
   "source": [
    "#Selecting attributes where the lunch is free/reduced\n",
    "#Selection des attibuts ou le dejeuner est gratuit/reduit\n",
    "#Выбор атрибутов, где обед - бесплатный/льготный\n",
    "\n",
    "sp.loc[sp.lunch =='free/reduced']"
   ]
  },
  {
   "cell_type": "code",
   "execution_count": 7,
   "metadata": {},
   "outputs": [
    {
     "data": {
      "text/plain": [
       "0.355"
      ]
     },
     "execution_count": 7,
     "metadata": {},
     "output_type": "execute_result"
    }
   ],
   "source": [
    "#Calculating\n",
    "#Calculation\n",
    "#Рассчет\n",
    "\n",
    "355/1000"
   ]
  },
  {
   "cell_type": "code",
   "execution_count": 8,
   "metadata": {},
   "outputs": [],
   "source": [
    "#Creating a new dataframe where the lunch is free/reduced\n",
    "#Creation une nouveau dataframe ou le dejeuner est gratuit/reduit\n",
    "#Создание нового датафрейма, где обед - бесплатный/льготный\n",
    "\n",
    "fr=sp.loc[sp.lunch =='free/reduced']"
   ]
  },
  {
   "cell_type": "code",
   "execution_count": 9,
   "metadata": {},
   "outputs": [],
   "source": [
    "#Creating a new dataframe where the lunch is standart\n",
    "#Creation une nouveau dataframe ou le dejeuner est standard\n",
    "#Создание нового датафрейма, где обед - стандартный\n",
    "\n",
    "std=sp.loc[sp.lunch =='standard']"
   ]
  },
  {
   "cell_type": "code",
   "execution_count": 10,
   "metadata": {},
   "outputs": [
    {
     "data": {
      "text/html": [
       "<div>\n",
       "<style scoped>\n",
       "    .dataframe tbody tr th:only-of-type {\n",
       "        vertical-align: middle;\n",
       "    }\n",
       "\n",
       "    .dataframe tbody tr th {\n",
       "        vertical-align: top;\n",
       "    }\n",
       "\n",
       "    .dataframe thead th {\n",
       "        text-align: right;\n",
       "    }\n",
       "</style>\n",
       "<table border=\"1\" class=\"dataframe\">\n",
       "  <thead>\n",
       "    <tr style=\"text-align: right;\">\n",
       "      <th></th>\n",
       "      <th>gender</th>\n",
       "      <th>race/ethnicity</th>\n",
       "      <th>parental level of education</th>\n",
       "      <th>lunch</th>\n",
       "      <th>test preparation course</th>\n",
       "      <th>math score</th>\n",
       "      <th>reading score</th>\n",
       "      <th>writing score</th>\n",
       "    </tr>\n",
       "  </thead>\n",
       "  <tbody>\n",
       "    <tr>\n",
       "      <th>0</th>\n",
       "      <td>female</td>\n",
       "      <td>group B</td>\n",
       "      <td>bachelor's degree</td>\n",
       "      <td>standard</td>\n",
       "      <td>none</td>\n",
       "      <td>72</td>\n",
       "      <td>72</td>\n",
       "      <td>74</td>\n",
       "    </tr>\n",
       "    <tr>\n",
       "      <th>1</th>\n",
       "      <td>female</td>\n",
       "      <td>group C</td>\n",
       "      <td>some college</td>\n",
       "      <td>standard</td>\n",
       "      <td>completed</td>\n",
       "      <td>69</td>\n",
       "      <td>90</td>\n",
       "      <td>88</td>\n",
       "    </tr>\n",
       "    <tr>\n",
       "      <th>2</th>\n",
       "      <td>female</td>\n",
       "      <td>group B</td>\n",
       "      <td>master's degree</td>\n",
       "      <td>standard</td>\n",
       "      <td>none</td>\n",
       "      <td>90</td>\n",
       "      <td>95</td>\n",
       "      <td>93</td>\n",
       "    </tr>\n",
       "    <tr>\n",
       "      <th>4</th>\n",
       "      <td>male</td>\n",
       "      <td>group C</td>\n",
       "      <td>some college</td>\n",
       "      <td>standard</td>\n",
       "      <td>none</td>\n",
       "      <td>76</td>\n",
       "      <td>78</td>\n",
       "      <td>75</td>\n",
       "    </tr>\n",
       "    <tr>\n",
       "      <th>5</th>\n",
       "      <td>female</td>\n",
       "      <td>group B</td>\n",
       "      <td>associate's degree</td>\n",
       "      <td>standard</td>\n",
       "      <td>none</td>\n",
       "      <td>71</td>\n",
       "      <td>83</td>\n",
       "      <td>78</td>\n",
       "    </tr>\n",
       "  </tbody>\n",
       "</table>\n",
       "</div>"
      ],
      "text/plain": [
       "   gender race/ethnicity parental level of education     lunch  \\\n",
       "0  female        group B           bachelor's degree  standard   \n",
       "1  female        group C                some college  standard   \n",
       "2  female        group B             master's degree  standard   \n",
       "4    male        group C                some college  standard   \n",
       "5  female        group B          associate's degree  standard   \n",
       "\n",
       "  test preparation course  math score  reading score  writing score  \n",
       "0                    none          72             72             74  \n",
       "1               completed          69             90             88  \n",
       "2                    none          90             95             93  \n",
       "4                    none          76             78             75  \n",
       "5                    none          71             83             78  "
      ]
     },
     "execution_count": 10,
     "metadata": {},
     "output_type": "execute_result"
    }
   ],
   "source": [
    "#Show the first 5 lines\n",
    "#Afficher les 5 premieres lignes\n",
    "#Показать 5 первых строк\n",
    "\n",
    "std.head()"
   ]
  },
  {
   "cell_type": "code",
   "execution_count": 11,
   "metadata": {},
   "outputs": [],
   "source": [
    "#Creating variable mean math score\n",
    "#Creation d'un score mathematique moyen variable\n",
    "#Создание переменной средней оценки по математике\n",
    "\n",
    "mean_ms_fr = fr['math score'].mean()"
   ]
  },
  {
   "cell_type": "code",
   "execution_count": 12,
   "metadata": {},
   "outputs": [
    {
     "data": {
      "text/plain": [
       "58.92112676056338"
      ]
     },
     "execution_count": 12,
     "metadata": {},
     "output_type": "execute_result"
    }
   ],
   "source": [
    "#The result\n",
    "#Le resultat\n",
    "#Результат\n",
    "mean_ms_fr"
   ]
  },
  {
   "cell_type": "code",
   "execution_count": 13,
   "metadata": {},
   "outputs": [],
   "source": [
    "#Creating variable mean math score\n",
    "#Creation d'un score mathematique moyen variable\n",
    "#Создание переменной средней оценки по математике\n",
    "\n",
    "mean_ms_std = std['math score'].mean()"
   ]
  },
  {
   "cell_type": "code",
   "execution_count": 14,
   "metadata": {},
   "outputs": [
    {
     "data": {
      "text/plain": [
       "70.03410852713178"
      ]
     },
     "execution_count": 14,
     "metadata": {},
     "output_type": "execute_result"
    }
   ],
   "source": [
    "#The result\n",
    "#Le resultat\n",
    "#Результат\n",
    "\n",
    "mean_ms_std"
   ]
  },
  {
   "cell_type": "code",
   "execution_count": 15,
   "metadata": {},
   "outputs": [],
   "source": [
    "#Creating variable mean reading score\n",
    "#Creation d'un score de lecture moyen variable\n",
    "#Создание переменной средней оценки по чтению\n",
    "\n",
    "mean_rs_fr = fr['reading score'].mean()"
   ]
  },
  {
   "cell_type": "code",
   "execution_count": 16,
   "metadata": {},
   "outputs": [
    {
     "data": {
      "text/plain": [
       "64.65352112676057"
      ]
     },
     "execution_count": 16,
     "metadata": {},
     "output_type": "execute_result"
    }
   ],
   "source": [
    "#The result\n",
    "#Le resultat\n",
    "#Результат\n",
    "\n",
    "mean_rs_fr"
   ]
  },
  {
   "cell_type": "code",
   "execution_count": 17,
   "metadata": {},
   "outputs": [],
   "source": [
    "#Creating variable mean reading score\n",
    "#Creation d'un score de lecture moyen variable\n",
    "#Создание переменной средней оценки по чтению\n",
    "\n",
    "mean_rs_std = std['reading score'].mean()"
   ]
  },
  {
   "cell_type": "code",
   "execution_count": 18,
   "metadata": {},
   "outputs": [
    {
     "data": {
      "text/plain": [
       "71.65426356589147"
      ]
     },
     "execution_count": 18,
     "metadata": {},
     "output_type": "execute_result"
    }
   ],
   "source": [
    "#The result\n",
    "#Le resultat\n",
    "#Результат\n",
    "\n",
    "mean_rs_std"
   ]
  },
  {
   "cell_type": "code",
   "execution_count": 19,
   "metadata": {},
   "outputs": [],
   "source": [
    "#Creating variable mean writing score\n",
    "#Creation d'un score d'ecriture moyen variable\n",
    "#Создание переменной средней оценки по письму\n",
    "\n",
    "mean_ws_fr = fr['writing score'].mean()"
   ]
  },
  {
   "cell_type": "code",
   "execution_count": 20,
   "metadata": {},
   "outputs": [
    {
     "data": {
      "text/plain": [
       "63.02253521126761"
      ]
     },
     "execution_count": 20,
     "metadata": {},
     "output_type": "execute_result"
    }
   ],
   "source": [
    "#The result\n",
    "#Le resultat\n",
    "#Результат\n",
    "\n",
    "mean_ws_fr"
   ]
  },
  {
   "cell_type": "code",
   "execution_count": 21,
   "metadata": {},
   "outputs": [],
   "source": [
    "#Creating variable mean writing score\n",
    "#Creation d'un score d'ecriture moyen variable\n",
    "#Создание переменной средней оценки по письму\n",
    "\n",
    "mean_ws_std = std['writing score'].mean()"
   ]
  },
  {
   "cell_type": "code",
   "execution_count": 22,
   "metadata": {},
   "outputs": [
    {
     "data": {
      "text/plain": [
       "70.8232558139535"
      ]
     },
     "execution_count": 22,
     "metadata": {},
     "output_type": "execute_result"
    }
   ],
   "source": [
    "#The result\n",
    "#Le resultat\n",
    "#Результат\n",
    "\n",
    "mean_ws_std"
   ]
  },
  {
   "cell_type": "code",
   "execution_count": 23,
   "metadata": {},
   "outputs": [],
   "source": [
    "#Calculating variance\n",
    "#Calculation de la variance\n",
    "#Рассчет дисперсии\n",
    "\n",
    "var_ms_fr = fr['math score'].var()"
   ]
  },
  {
   "cell_type": "code",
   "execution_count": 24,
   "metadata": {},
   "outputs": [
    {
     "data": {
      "text/plain": [
       "229.8242699132649"
      ]
     },
     "execution_count": 24,
     "metadata": {},
     "output_type": "execute_result"
    }
   ],
   "source": [
    "#The result\n",
    "#Le resultat\n",
    "#Результат\n",
    "\n",
    "var_ms_fr"
   ]
  },
  {
   "cell_type": "code",
   "execution_count": 25,
   "metadata": {},
   "outputs": [],
   "source": [
    "#Calculating variance\n",
    "#Calculation de la variance\n",
    "#Рассчет дисперсии\n",
    "\n",
    "var_ms_std = std['math score'].var()"
   ]
  },
  {
   "cell_type": "code",
   "execution_count": 26,
   "metadata": {},
   "outputs": [
    {
     "data": {
      "text/plain": [
       "186.41808946025324"
      ]
     },
     "execution_count": 26,
     "metadata": {},
     "output_type": "execute_result"
    }
   ],
   "source": [
    "#The result\n",
    "#Le resultat\n",
    "#Результат\n",
    "\n",
    "var_ms_std"
   ]
  },
  {
   "cell_type": "code",
   "execution_count": 27,
   "metadata": {},
   "outputs": [],
   "source": [
    "#Calculating variance\n",
    "#Calculation de la variance\n",
    "#Рассчет дисперсии\n",
    "\n",
    "var_rs_fr = fr['reading score'].var()"
   ]
  },
  {
   "cell_type": "code",
   "execution_count": 28,
   "metadata": {},
   "outputs": [
    {
     "data": {
      "text/plain": [
       "221.8711386965864"
      ]
     },
     "execution_count": 28,
     "metadata": {},
     "output_type": "execute_result"
    }
   ],
   "source": [
    "#The result\n",
    "#Le resultat\n",
    "#Результат\n",
    "\n",
    "var_rs_fr"
   ]
  },
  {
   "cell_type": "code",
   "execution_count": 29,
   "metadata": {},
   "outputs": [],
   "source": [
    "#Calculating variance\n",
    "#Calculation de la variance\n",
    "#Рассчет дисперсии\n",
    "\n",
    "var_rs_std = std['reading score'].var()"
   ]
  },
  {
   "cell_type": "code",
   "execution_count": 30,
   "metadata": {},
   "outputs": [
    {
     "data": {
      "text/plain": [
       "191.28556020992812"
      ]
     },
     "execution_count": 30,
     "metadata": {},
     "output_type": "execute_result"
    }
   ],
   "source": [
    "#The result\n",
    "#Le resultat\n",
    "#Результат\n",
    "\n",
    "var_rs_std"
   ]
  },
  {
   "cell_type": "code",
   "execution_count": 31,
   "metadata": {},
   "outputs": [],
   "source": [
    "#Calculating variance\n",
    "#Calculation de la variance\n",
    "#Рассчет дисперсии\n",
    "\n",
    "var_ws_fr = fr['writing score'].var()"
   ]
  },
  {
   "cell_type": "code",
   "execution_count": 32,
   "metadata": {},
   "outputs": [
    {
     "data": {
      "text/plain": [
       "238.20288056019737"
      ]
     },
     "execution_count": 32,
     "metadata": {},
     "output_type": "execute_result"
    }
   ],
   "source": [
    "#The result\n",
    "#Le resultat\n",
    "#Результат\n",
    "\n",
    "var_ws_fr"
   ]
  },
  {
   "cell_type": "code",
   "execution_count": 33,
   "metadata": {},
   "outputs": [],
   "source": [
    "#Calculating variance\n",
    "#Calculation de la variance\n",
    "#Рассчет дисперсии\n",
    "\n",
    "var_ws_std = std['writing score'].var()"
   ]
  },
  {
   "cell_type": "code",
   "execution_count": 34,
   "metadata": {},
   "outputs": [
    {
     "data": {
      "text/plain": [
       "205.62088689874332"
      ]
     },
     "execution_count": 34,
     "metadata": {},
     "output_type": "execute_result"
    }
   ],
   "source": [
    "#The result\n",
    "#Le resultat\n",
    "#Результат\n",
    "\n",
    "var_ws_std"
   ]
  },
  {
   "cell_type": "code",
   "execution_count": 35,
   "metadata": {},
   "outputs": [],
   "source": [
    "#Loading data frame into df\n",
    "#Chargement de la dataframe dans df\n",
    "#Загрузка данных в переменную df\n",
    "\n",
    "df=pd.read_csv('C:/Users/9/Downloads/column_hell.csv')"
   ]
  },
  {
   "cell_type": "code",
   "execution_count": 36,
   "metadata": {},
   "outputs": [
    {
     "data": {
      "text/html": [
       "<div>\n",
       "<style scoped>\n",
       "    .dataframe tbody tr th:only-of-type {\n",
       "        vertical-align: middle;\n",
       "    }\n",
       "\n",
       "    .dataframe tbody tr th {\n",
       "        vertical-align: top;\n",
       "    }\n",
       "\n",
       "    .dataframe thead th {\n",
       "        text-align: right;\n",
       "    }\n",
       "</style>\n",
       "<table border=\"1\" class=\"dataframe\">\n",
       "  <thead>\n",
       "    <tr style=\"text-align: right;\">\n",
       "      <th></th>\n",
       "      <th>yrh&amp;6</th>\n",
       "      <th>ohku</th>\n",
       "      <th>q</th>\n",
       "      <th>hfxx</th>\n",
       "      <th>umeca-4</th>\n",
       "      <th>apj</th>\n",
       "      <th>g</th>\n",
       "      <th>ijvnixxo</th>\n",
       "      <th>kudbpyw-3</th>\n",
       "      <th>upubjv</th>\n",
       "      <th>...</th>\n",
       "      <th>fi</th>\n",
       "      <th>clsruyy</th>\n",
       "      <th>g&amp;6</th>\n",
       "      <th>qo$6</th>\n",
       "      <th>ap</th>\n",
       "      <th>o</th>\n",
       "      <th>sladymzr</th>\n",
       "      <th>tif</th>\n",
       "      <th>wuikzxt</th>\n",
       "      <th>wzuvc</th>\n",
       "    </tr>\n",
       "  </thead>\n",
       "  <tbody>\n",
       "    <tr>\n",
       "      <th>0</th>\n",
       "      <td>0.288397</td>\n",
       "      <td>0.911359</td>\n",
       "      <td>0.488069</td>\n",
       "      <td>0.074599</td>\n",
       "      <td>0.016124</td>\n",
       "      <td>0.090555</td>\n",
       "      <td>0.560810</td>\n",
       "      <td>0.110975</td>\n",
       "      <td>0.430787</td>\n",
       "      <td>0.548763</td>\n",
       "      <td>...</td>\n",
       "      <td>0.793122</td>\n",
       "      <td>0.070335</td>\n",
       "      <td>0.145115</td>\n",
       "      <td>0.686579</td>\n",
       "      <td>0.071681</td>\n",
       "      <td>0.563068</td>\n",
       "      <td>0.815201</td>\n",
       "      <td>0.081902</td>\n",
       "      <td>0.333237</td>\n",
       "      <td>0.185148</td>\n",
       "    </tr>\n",
       "    <tr>\n",
       "      <th>1</th>\n",
       "      <td>0.861276</td>\n",
       "      <td>0.134987</td>\n",
       "      <td>0.701885</td>\n",
       "      <td>0.897921</td>\n",
       "      <td>0.507115</td>\n",
       "      <td>0.740151</td>\n",
       "      <td>0.963179</td>\n",
       "      <td>0.712024</td>\n",
       "      <td>0.671662</td>\n",
       "      <td>0.497596</td>\n",
       "      <td>...</td>\n",
       "      <td>0.477181</td>\n",
       "      <td>0.767931</td>\n",
       "      <td>0.996055</td>\n",
       "      <td>0.948774</td>\n",
       "      <td>0.054327</td>\n",
       "      <td>0.087341</td>\n",
       "      <td>0.072166</td>\n",
       "      <td>0.856081</td>\n",
       "      <td>0.120481</td>\n",
       "      <td>0.622113</td>\n",
       "    </tr>\n",
       "    <tr>\n",
       "      <th>2</th>\n",
       "      <td>0.775577</td>\n",
       "      <td>0.832874</td>\n",
       "      <td>0.862665</td>\n",
       "      <td>0.831049</td>\n",
       "      <td>0.003274</td>\n",
       "      <td>0.703112</td>\n",
       "      <td>0.509795</td>\n",
       "      <td>0.573296</td>\n",
       "      <td>0.286411</td>\n",
       "      <td>0.282792</td>\n",
       "      <td>...</td>\n",
       "      <td>0.421542</td>\n",
       "      <td>0.770413</td>\n",
       "      <td>0.749468</td>\n",
       "      <td>0.395022</td>\n",
       "      <td>0.307752</td>\n",
       "      <td>0.535575</td>\n",
       "      <td>0.341393</td>\n",
       "      <td>0.971201</td>\n",
       "      <td>0.714558</td>\n",
       "      <td>0.702453</td>\n",
       "    </tr>\n",
       "    <tr>\n",
       "      <th>3</th>\n",
       "      <td>0.857910</td>\n",
       "      <td>0.555818</td>\n",
       "      <td>0.598305</td>\n",
       "      <td>0.473988</td>\n",
       "      <td>0.784139</td>\n",
       "      <td>0.427963</td>\n",
       "      <td>0.725103</td>\n",
       "      <td>0.286610</td>\n",
       "      <td>0.863717</td>\n",
       "      <td>0.545562</td>\n",
       "      <td>...</td>\n",
       "      <td>0.240252</td>\n",
       "      <td>0.010355</td>\n",
       "      <td>0.759912</td>\n",
       "      <td>0.965837</td>\n",
       "      <td>0.110719</td>\n",
       "      <td>0.439488</td>\n",
       "      <td>0.816526</td>\n",
       "      <td>0.111621</td>\n",
       "      <td>0.373365</td>\n",
       "      <td>0.461615</td>\n",
       "    </tr>\n",
       "    <tr>\n",
       "      <th>4</th>\n",
       "      <td>0.748652</td>\n",
       "      <td>0.451725</td>\n",
       "      <td>0.252619</td>\n",
       "      <td>0.584361</td>\n",
       "      <td>0.011265</td>\n",
       "      <td>0.051115</td>\n",
       "      <td>0.755444</td>\n",
       "      <td>0.627191</td>\n",
       "      <td>0.206172</td>\n",
       "      <td>0.955043</td>\n",
       "      <td>...</td>\n",
       "      <td>0.846165</td>\n",
       "      <td>0.043458</td>\n",
       "      <td>0.209347</td>\n",
       "      <td>0.028276</td>\n",
       "      <td>0.700446</td>\n",
       "      <td>0.203503</td>\n",
       "      <td>0.181903</td>\n",
       "      <td>0.428842</td>\n",
       "      <td>0.099398</td>\n",
       "      <td>0.175227</td>\n",
       "    </tr>\n",
       "  </tbody>\n",
       "</table>\n",
       "<p>5 rows × 75 columns</p>\n",
       "</div>"
      ],
      "text/plain": [
       "      yrh&6      ohku         q      hfxx   umeca-4       apj         g  \\\n",
       "0  0.288397  0.911359  0.488069  0.074599  0.016124  0.090555  0.560810   \n",
       "1  0.861276  0.134987  0.701885  0.897921  0.507115  0.740151  0.963179   \n",
       "2  0.775577  0.832874  0.862665  0.831049  0.003274  0.703112  0.509795   \n",
       "3  0.857910  0.555818  0.598305  0.473988  0.784139  0.427963  0.725103   \n",
       "4  0.748652  0.451725  0.252619  0.584361  0.011265  0.051115  0.755444   \n",
       "\n",
       "   ijvnixxo  kudbpyw-3    upubjv  ...        fi   clsruyy       g&6      qo$6  \\\n",
       "0  0.110975   0.430787  0.548763  ...  0.793122  0.070335  0.145115  0.686579   \n",
       "1  0.712024   0.671662  0.497596  ...  0.477181  0.767931  0.996055  0.948774   \n",
       "2  0.573296   0.286411  0.282792  ...  0.421542  0.770413  0.749468  0.395022   \n",
       "3  0.286610   0.863717  0.545562  ...  0.240252  0.010355  0.759912  0.965837   \n",
       "4  0.627191   0.206172  0.955043  ...  0.846165  0.043458  0.209347  0.028276   \n",
       "\n",
       "         ap         o  sladymzr       tif   wuikzxt     wzuvc  \n",
       "0  0.071681  0.563068  0.815201  0.081902  0.333237  0.185148  \n",
       "1  0.054327  0.087341  0.072166  0.856081  0.120481  0.622113  \n",
       "2  0.307752  0.535575  0.341393  0.971201  0.714558  0.702453  \n",
       "3  0.110719  0.439488  0.816526  0.111621  0.373365  0.461615  \n",
       "4  0.700446  0.203503  0.181903  0.428842  0.099398  0.175227  \n",
       "\n",
       "[5 rows x 75 columns]"
      ]
     },
     "execution_count": 36,
     "metadata": {},
     "output_type": "execute_result"
    }
   ],
   "source": [
    "#Show the first 10 lines\n",
    "#Afficher les 10 premieres lignes\n",
    "#Показать 10 первых строк\n",
    "\n",
    "df.head()"
   ]
  },
  {
   "cell_type": "code",
   "execution_count": 37,
   "metadata": {},
   "outputs": [
    {
     "data": {
      "text/html": [
       "<div>\n",
       "<style scoped>\n",
       "    .dataframe tbody tr th:only-of-type {\n",
       "        vertical-align: middle;\n",
       "    }\n",
       "\n",
       "    .dataframe tbody tr th {\n",
       "        vertical-align: top;\n",
       "    }\n",
       "\n",
       "    .dataframe thead th {\n",
       "        text-align: right;\n",
       "    }\n",
       "</style>\n",
       "<table border=\"1\" class=\"dataframe\">\n",
       "  <thead>\n",
       "    <tr style=\"text-align: right;\">\n",
       "      <th></th>\n",
       "      <th>umeca-4</th>\n",
       "      <th>kudbpyw-3</th>\n",
       "      <th>g-3</th>\n",
       "      <th>v-9</th>\n",
       "      <th>fla-6</th>\n",
       "      <th>hwtbyrkp-5</th>\n",
       "    </tr>\n",
       "  </thead>\n",
       "  <tbody>\n",
       "    <tr>\n",
       "      <th>0</th>\n",
       "      <td>0.016124</td>\n",
       "      <td>0.430787</td>\n",
       "      <td>0.202407</td>\n",
       "      <td>0.725508</td>\n",
       "      <td>0.305076</td>\n",
       "      <td>0.979296</td>\n",
       "    </tr>\n",
       "    <tr>\n",
       "      <th>1</th>\n",
       "      <td>0.507115</td>\n",
       "      <td>0.671662</td>\n",
       "      <td>0.864249</td>\n",
       "      <td>0.867818</td>\n",
       "      <td>0.358859</td>\n",
       "      <td>0.160520</td>\n",
       "    </tr>\n",
       "    <tr>\n",
       "      <th>2</th>\n",
       "      <td>0.003274</td>\n",
       "      <td>0.286411</td>\n",
       "      <td>0.928865</td>\n",
       "      <td>0.719159</td>\n",
       "      <td>0.340235</td>\n",
       "      <td>0.734612</td>\n",
       "    </tr>\n",
       "    <tr>\n",
       "      <th>3</th>\n",
       "      <td>0.784139</td>\n",
       "      <td>0.863717</td>\n",
       "      <td>0.175446</td>\n",
       "      <td>0.554744</td>\n",
       "      <td>0.049325</td>\n",
       "      <td>0.621132</td>\n",
       "    </tr>\n",
       "    <tr>\n",
       "      <th>4</th>\n",
       "      <td>0.011265</td>\n",
       "      <td>0.206172</td>\n",
       "      <td>0.044151</td>\n",
       "      <td>0.163643</td>\n",
       "      <td>0.048806</td>\n",
       "      <td>0.437836</td>\n",
       "    </tr>\n",
       "    <tr>\n",
       "      <th>...</th>\n",
       "      <td>...</td>\n",
       "      <td>...</td>\n",
       "      <td>...</td>\n",
       "      <td>...</td>\n",
       "      <td>...</td>\n",
       "      <td>...</td>\n",
       "    </tr>\n",
       "    <tr>\n",
       "      <th>95</th>\n",
       "      <td>0.220817</td>\n",
       "      <td>0.434444</td>\n",
       "      <td>0.601738</td>\n",
       "      <td>0.146333</td>\n",
       "      <td>0.918888</td>\n",
       "      <td>0.216499</td>\n",
       "    </tr>\n",
       "    <tr>\n",
       "      <th>96</th>\n",
       "      <td>0.474131</td>\n",
       "      <td>0.176011</td>\n",
       "      <td>0.359793</td>\n",
       "      <td>0.104707</td>\n",
       "      <td>0.257690</td>\n",
       "      <td>0.066934</td>\n",
       "    </tr>\n",
       "    <tr>\n",
       "      <th>97</th>\n",
       "      <td>0.091637</td>\n",
       "      <td>0.871606</td>\n",
       "      <td>0.121075</td>\n",
       "      <td>0.907699</td>\n",
       "      <td>0.313184</td>\n",
       "      <td>0.788592</td>\n",
       "    </tr>\n",
       "    <tr>\n",
       "      <th>98</th>\n",
       "      <td>0.360106</td>\n",
       "      <td>0.172385</td>\n",
       "      <td>0.015285</td>\n",
       "      <td>0.019571</td>\n",
       "      <td>0.060751</td>\n",
       "      <td>0.403166</td>\n",
       "    </tr>\n",
       "    <tr>\n",
       "      <th>99</th>\n",
       "      <td>0.669284</td>\n",
       "      <td>0.701505</td>\n",
       "      <td>0.481430</td>\n",
       "      <td>0.024944</td>\n",
       "      <td>0.644989</td>\n",
       "      <td>0.702003</td>\n",
       "    </tr>\n",
       "  </tbody>\n",
       "</table>\n",
       "<p>100 rows × 6 columns</p>\n",
       "</div>"
      ],
      "text/plain": [
       "     umeca-4  kudbpyw-3       g-3       v-9     fla-6  hwtbyrkp-5\n",
       "0   0.016124   0.430787  0.202407  0.725508  0.305076    0.979296\n",
       "1   0.507115   0.671662  0.864249  0.867818  0.358859    0.160520\n",
       "2   0.003274   0.286411  0.928865  0.719159  0.340235    0.734612\n",
       "3   0.784139   0.863717  0.175446  0.554744  0.049325    0.621132\n",
       "4   0.011265   0.206172  0.044151  0.163643  0.048806    0.437836\n",
       "..       ...        ...       ...       ...       ...         ...\n",
       "95  0.220817   0.434444  0.601738  0.146333  0.918888    0.216499\n",
       "96  0.474131   0.176011  0.359793  0.104707  0.257690    0.066934\n",
       "97  0.091637   0.871606  0.121075  0.907699  0.313184    0.788592\n",
       "98  0.360106   0.172385  0.015285  0.019571  0.060751    0.403166\n",
       "99  0.669284   0.701505  0.481430  0.024944  0.644989    0.702003\n",
       "\n",
       "[100 rows x 6 columns]"
      ]
     },
     "execution_count": 37,
     "metadata": {},
     "output_type": "execute_result"
    }
   ],
   "source": [
    "#Using the filter function\n",
    "#Utilisation de la fonction de filter\n",
    "#Использование функции фильтр\n",
    "\n",
    "df.filter(like='-')"
   ]
  }
 ],
 "metadata": {
  "kernelspec": {
   "display_name": "Python 3",
   "language": "python",
   "name": "python3"
  },
  "language_info": {
   "codemirror_mode": {
    "name": "ipython",
    "version": 3
   },
   "file_extension": ".py",
   "mimetype": "text/x-python",
   "name": "python",
   "nbconvert_exporter": "python",
   "pygments_lexer": "ipython3",
   "version": "3.8.3"
  }
 },
 "nbformat": 4,
 "nbformat_minor": 4
}
